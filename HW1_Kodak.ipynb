{
 "cells": [
  {
   "cell_type": "markdown",
   "id": "deba51a5",
   "metadata": {},
   "source": [
    "# Task 1\n",
    "Consider the matrix H(v) = $1̂ − 2vv^T$ , where v is a unit column vector. What is the rank of the matrix\n",
    "H(v)? Prove that it is orthogonal."
   ]
  },
  {
   "cell_type": "code",
   "execution_count": 1,
   "id": "9c82b952",
   "metadata": {},
   "outputs": [
    {
     "name": "stdout",
     "output_type": "stream",
     "text": [
      "Rank of H(v): 4\n",
      "H(v) is not orthogonal\n"
     ]
    }
   ],
   "source": [
    "import numpy as np\n",
    "\n",
    "v = np.array([2, 3, 4, 5])\n",
    "H_v = np.identity(4) - 2 * np.outer(v, v)\n",
    "rank_H_v = np.linalg.matrix_rank(H_v)\n",
    "\n",
    "print(\"Rank of H(v):\", rank_H_v)\n",
    "\n",
    "orthogonal = np.allclose(np.dot(H_v.T, H_v), np.identity(4))  # Check if H(v)^T * H(v) is the identity matrix\n",
    "unit_norm = np.allclose(np.linalg.norm(H_v), np.ones(4))  # Check if the columns have unit norm\n",
    "\n",
    "if orthogonal and unit_norm:\n",
    "    print(\"H(v) is orthogonal\")\n",
    "else:\n",
    "    print(\"H(v) is not orthogonal\")"
   ]
  },
  {
   "cell_type": "markdown",
   "id": "8a6d6824",
   "metadata": {},
   "source": [
    "# Task 2\n",
    "Prove the following inequalities and provide examples of x and A when they turn into equalities:\n",
    "\n",
    "$\\lVert x \\rVert_2 \\leqslant \\sqrt{m} \\cdot \\lVert x \\rVert_{\\infty}$\n",
    "\n",
    "$\\lVert A \\rVert_{\\infty} \\leqslant \\sqrt{n} \\cdot \\lVert A \\rVert_2$,\n",
    "\n",
    "where x is a vector of m components and A is m × n matrix."
   ]
  },
  {
   "cell_type": "code",
   "execution_count": 2,
   "id": "0f202bc4",
   "metadata": {},
   "outputs": [
    {
     "name": "stdout",
     "output_type": "stream",
     "text": [
      "Inequalities 1 is True\n",
      "Inequalities 2 is True\n"
     ]
    }
   ],
   "source": [
    "import numpy as np\n",
    "\n",
    "m = 5  # Replace with the desired value of m\n",
    "x = np.array([1, 2, 3, 4, 5])  # Example vector\n",
    "norm_2 = np.linalg.norm(x, 2)  # L2 norm\n",
    "norm_inf = np.linalg.norm(x, np.inf)  # L∞ norm\n",
    "inequality_1 = norm_2 <= np.sqrt(m) * norm_inf\n",
    "print(f\"Inequalities 1 is {inequality_1}\")\n",
    "\n",
    "n = 4  # Replace with the desired value of n\n",
    "A = np.array([[1, 2, 3, 4, 5],\n",
    "              [6, 7, 8, 9, 10],\n",
    "              [11, 12, 13, 14, 15],\n",
    "              [1, 2, 3, 4, 5]])  # Example matrix\n",
    "norm_2 = np.linalg.norm(A, 2)  # Frobenius norm\n",
    "norm_inf = np.linalg.norm(A, np.inf)  # L∞ norm\n",
    "inequality_2 = norm_inf <= np.sqrt(n) * norm_2\n",
    "print(f\"Inequalities 2 is {inequality_2}\")"
   ]
  },
  {
   "cell_type": "markdown",
   "id": "53b5b6f7",
   "metadata": {},
   "source": [
    "# Task 3\n",
    "Assuming u and v are m-vectors, consider the matrix $A = 1 + uv^T$ which is a rank-one perturbation\n",
    "of identity. Can it be singular? Assuming it is not, compute its inverse. You may look for it in a form of\n",
    "$A^{−1} = 1 + \\alpha uv^T$ for some scalar $\\alpha$ and evaluate $\\alpha$."
   ]
  },
  {
   "cell_type": "code",
   "execution_count": null,
   "id": "0d2083df",
   "metadata": {},
   "outputs": [],
   "source": []
  }
 ],
 "metadata": {
  "kernelspec": {
   "display_name": "Python 3 (ipykernel)",
   "language": "python",
   "name": "python3"
  },
  "language_info": {
   "codemirror_mode": {
    "name": "ipython",
    "version": 3
   },
   "file_extension": ".py",
   "mimetype": "text/x-python",
   "name": "python",
   "nbconvert_exporter": "python",
   "pygments_lexer": "ipython3",
   "version": "3.11.4"
  }
 },
 "nbformat": 4,
 "nbformat_minor": 5
}
